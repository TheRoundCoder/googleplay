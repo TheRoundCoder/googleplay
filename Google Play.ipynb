{
 "cells": [
  {
   "cell_type": "code",
   "execution_count": 348,
   "metadata": {},
   "outputs": [],
   "source": [
    "import pandas as pd\n",
    "import numpy as np"
   ]
  },
  {
   "cell_type": "markdown",
   "metadata": {},
   "source": [
    "# Goal\n",
    "  -  Goal of this project is to analyze the number of apps that has not been updated."
   ]
  },
  {
   "cell_type": "markdown",
   "metadata": {},
   "source": [
    "# Import Dataset"
   ]
  },
  {
   "cell_type": "code",
   "execution_count": 315,
   "metadata": {},
   "outputs": [],
   "source": [
    "google_apps = pd.read_csv('googleplaystore.csv')"
   ]
  },
  {
   "cell_type": "markdown",
   "metadata": {},
   "source": [
    "# Create a new Dataframe for App and Date\n",
    "   - In this part, we created a new dataframe which contains only the column 'App' & 'Last Updated' for us to get a better look of our dataset"
   ]
  },
  {
   "cell_type": "code",
   "execution_count": 317,
   "metadata": {},
   "outputs": [
    {
     "name": "stdout",
     "output_type": "stream",
     "text": [
      "<class 'pandas.core.frame.DataFrame'>\n",
      "Index: 10841 entries, Photo Editor & Candy Camera & Grid & ScrapBook to iHoroscope - 2018 Daily Horoscope & Astrology\n",
      "Data columns (total 1 columns):\n",
      " #   Column        Non-Null Count  Dtype \n",
      "---  ------        --------------  ----- \n",
      " 0   Last Updated  10841 non-null  object\n",
      "dtypes: object(1)\n",
      "memory usage: 169.4+ KB\n"
     ]
    }
   ],
   "source": [
    "apps_df = pd.DataFrame()\n",
    "apps_df['App'] = google_apps['App']\n",
    "apps_df['Last Updated'] = google_apps['Last Updated']\n",
    "apps_df = apps_df.set_index('App')\n",
    "apps_df.info()"
   ]
  },
  {
   "cell_type": "markdown",
   "metadata": {},
   "source": [
    "# Converting date format\n",
    "   - In this part, we will convert our \"Last Updated\" column in to a much workable dateformat\n",
    "   - Note, that there is a row which has an incorrect data which has a value of 1.0.19, therefore we will remove that row"
   ]
  },
  {
   "cell_type": "code",
   "execution_count": 318,
   "metadata": {},
   "outputs": [
    {
     "data": {
      "text/html": [
       "<div>\n",
       "<style scoped>\n",
       "    .dataframe tbody tr th:only-of-type {\n",
       "        vertical-align: middle;\n",
       "    }\n",
       "\n",
       "    .dataframe tbody tr th {\n",
       "        vertical-align: top;\n",
       "    }\n",
       "\n",
       "    .dataframe thead th {\n",
       "        text-align: right;\n",
       "    }\n",
       "</style>\n",
       "<table border=\"1\" class=\"dataframe\">\n",
       "  <thead>\n",
       "    <tr style=\"text-align: right;\">\n",
       "      <th></th>\n",
       "      <th>Last Updated</th>\n",
       "    </tr>\n",
       "    <tr>\n",
       "      <th>App</th>\n",
       "      <th></th>\n",
       "    </tr>\n",
       "  </thead>\n",
       "  <tbody>\n",
       "    <tr>\n",
       "      <th>Life Made WI-Fi Touchscreen Photo Frame</th>\n",
       "      <td>1.0.19</td>\n",
       "    </tr>\n",
       "  </tbody>\n",
       "</table>\n",
       "</div>"
      ],
      "text/plain": [
       "                                        Last Updated\n",
       "App                                                 \n",
       "Life Made WI-Fi Touchscreen Photo Frame       1.0.19"
      ]
     },
     "execution_count": 318,
     "metadata": {},
     "output_type": "execute_result"
    }
   ],
   "source": [
    "apps_df.loc[apps_df['Last Updated'] == '1.0.19'] "
   ]
  },
  {
   "cell_type": "code",
   "execution_count": 319,
   "metadata": {},
   "outputs": [
    {
     "data": {
      "text/html": [
       "<div>\n",
       "<style scoped>\n",
       "    .dataframe tbody tr th:only-of-type {\n",
       "        vertical-align: middle;\n",
       "    }\n",
       "\n",
       "    .dataframe tbody tr th {\n",
       "        vertical-align: top;\n",
       "    }\n",
       "\n",
       "    .dataframe thead th {\n",
       "        text-align: right;\n",
       "    }\n",
       "</style>\n",
       "<table border=\"1\" class=\"dataframe\">\n",
       "  <thead>\n",
       "    <tr style=\"text-align: right;\">\n",
       "      <th></th>\n",
       "      <th>App</th>\n",
       "      <th>Last Updated</th>\n",
       "    </tr>\n",
       "  </thead>\n",
       "  <tbody>\n",
       "    <tr>\n",
       "      <th>0</th>\n",
       "      <td>Photo Editor &amp; Candy Camera &amp; Grid &amp; ScrapBook</td>\n",
       "      <td>January 7, 2018</td>\n",
       "    </tr>\n",
       "    <tr>\n",
       "      <th>1</th>\n",
       "      <td>Coloring book moana</td>\n",
       "      <td>January 15, 2018</td>\n",
       "    </tr>\n",
       "    <tr>\n",
       "      <th>2</th>\n",
       "      <td>U Launcher Lite – FREE Live Cool Themes, Hide ...</td>\n",
       "      <td>August 1, 2018</td>\n",
       "    </tr>\n",
       "    <tr>\n",
       "      <th>3</th>\n",
       "      <td>Sketch - Draw &amp; Paint</td>\n",
       "      <td>June 8, 2018</td>\n",
       "    </tr>\n",
       "    <tr>\n",
       "      <th>4</th>\n",
       "      <td>Pixel Draw - Number Art Coloring Book</td>\n",
       "      <td>June 20, 2018</td>\n",
       "    </tr>\n",
       "    <tr>\n",
       "      <th>...</th>\n",
       "      <td>...</td>\n",
       "      <td>...</td>\n",
       "    </tr>\n",
       "    <tr>\n",
       "      <th>10835</th>\n",
       "      <td>Sya9a Maroc - FR</td>\n",
       "      <td>July 25, 2017</td>\n",
       "    </tr>\n",
       "    <tr>\n",
       "      <th>10836</th>\n",
       "      <td>Fr. Mike Schmitz Audio Teachings</td>\n",
       "      <td>July 6, 2018</td>\n",
       "    </tr>\n",
       "    <tr>\n",
       "      <th>10837</th>\n",
       "      <td>Parkinson Exercices FR</td>\n",
       "      <td>January 20, 2017</td>\n",
       "    </tr>\n",
       "    <tr>\n",
       "      <th>10838</th>\n",
       "      <td>The SCP Foundation DB fr nn5n</td>\n",
       "      <td>January 19, 2015</td>\n",
       "    </tr>\n",
       "    <tr>\n",
       "      <th>10839</th>\n",
       "      <td>iHoroscope - 2018 Daily Horoscope &amp; Astrology</td>\n",
       "      <td>July 25, 2018</td>\n",
       "    </tr>\n",
       "  </tbody>\n",
       "</table>\n",
       "<p>10840 rows × 2 columns</p>\n",
       "</div>"
      ],
      "text/plain": [
       "                                                     App      Last Updated\n",
       "0         Photo Editor & Candy Camera & Grid & ScrapBook   January 7, 2018\n",
       "1                                    Coloring book moana  January 15, 2018\n",
       "2      U Launcher Lite – FREE Live Cool Themes, Hide ...    August 1, 2018\n",
       "3                                  Sketch - Draw & Paint      June 8, 2018\n",
       "4                  Pixel Draw - Number Art Coloring Book     June 20, 2018\n",
       "...                                                  ...               ...\n",
       "10835                                   Sya9a Maroc - FR     July 25, 2017\n",
       "10836                   Fr. Mike Schmitz Audio Teachings      July 6, 2018\n",
       "10837                             Parkinson Exercices FR  January 20, 2017\n",
       "10838                      The SCP Foundation DB fr nn5n  January 19, 2015\n",
       "10839      iHoroscope - 2018 Daily Horoscope & Astrology     July 25, 2018\n",
       "\n",
       "[10840 rows x 2 columns]"
      ]
     },
     "execution_count": 319,
     "metadata": {},
     "output_type": "execute_result"
    }
   ],
   "source": [
    "apps_df = apps_df.drop(['Life Made WI-Fi Touchscreen Photo Frame'])\n",
    "apps_df.reset_index()"
   ]
  },
  {
   "cell_type": "code",
   "execution_count": 320,
   "metadata": {},
   "outputs": [],
   "source": [
    "# Convert to dateformat\n",
    "apps_df['Last Updated'] = pd.to_datetime(apps_df['Last Updated'])\n",
    "apps_df.sort_values(by=['Last Updated'], inplace=True)\n",
    "apps_df = apps_df.reset_index()"
   ]
  },
  {
   "cell_type": "markdown",
   "metadata": {},
   "source": [
    "# Separate Updated Apps to Outdated Apps\n",
    "  - In this part, we will separate Apps that has been updated since 2017"
   ]
  },
  {
   "cell_type": "code",
   "execution_count": 326,
   "metadata": {},
   "outputs": [],
   "source": [
    "start_date = '2017-01-01'\n",
    "updated = (apps_df['Last Updated'] >= start_date) \n",
    "outdated = (apps_df['Last Updated'] <= start_date)\n",
    "\n",
    "\n",
    "# Create Dataframes for Separated Apps\n",
    "updated_apps = pd.DataFrame(data=apps_df.loc[updated])\n",
    "outdated_apps = pd.DataFrame(data=apps_df.loc[outdated])"
   ]
  },
  {
   "cell_type": "markdown",
   "metadata": {},
   "source": [
    "# Display Outdate and Updated App"
   ]
  },
  {
   "cell_type": "code",
   "execution_count": 331,
   "metadata": {},
   "outputs": [
    {
     "data": {
      "text/html": [
       "<div>\n",
       "<style scoped>\n",
       "    .dataframe tbody tr th:only-of-type {\n",
       "        vertical-align: middle;\n",
       "    }\n",
       "\n",
       "    .dataframe tbody tr th {\n",
       "        vertical-align: top;\n",
       "    }\n",
       "\n",
       "    .dataframe thead th {\n",
       "        text-align: right;\n",
       "    }\n",
       "</style>\n",
       "<table border=\"1\" class=\"dataframe\">\n",
       "  <thead>\n",
       "    <tr style=\"text-align: right;\">\n",
       "      <th></th>\n",
       "      <th>App</th>\n",
       "      <th>Last Updated</th>\n",
       "    </tr>\n",
       "  </thead>\n",
       "  <tbody>\n",
       "    <tr>\n",
       "      <th>1624</th>\n",
       "      <td>Cold Spirits</td>\n",
       "      <td>2017-01-02</td>\n",
       "    </tr>\n",
       "    <tr>\n",
       "      <th>1625</th>\n",
       "      <td>BD All Sim Offer</td>\n",
       "      <td>2017-01-03</td>\n",
       "    </tr>\n",
       "    <tr>\n",
       "      <th>1626</th>\n",
       "      <td>100+ C Programs</td>\n",
       "      <td>2017-01-03</td>\n",
       "    </tr>\n",
       "    <tr>\n",
       "      <th>1627</th>\n",
       "      <td>Remote Link (PC Remote)</td>\n",
       "      <td>2017-01-03</td>\n",
       "    </tr>\n",
       "    <tr>\n",
       "      <th>1628</th>\n",
       "      <td>FJ 4x4 Cruiser Offroad Driving</td>\n",
       "      <td>2017-01-04</td>\n",
       "    </tr>\n",
       "  </tbody>\n",
       "</table>\n",
       "</div>"
      ],
      "text/plain": [
       "                                 App Last Updated\n",
       "1624                    Cold Spirits   2017-01-02\n",
       "1625                BD All Sim Offer   2017-01-03\n",
       "1626                 100+ C Programs   2017-01-03\n",
       "1627         Remote Link (PC Remote)   2017-01-03\n",
       "1628  FJ 4x4 Cruiser Offroad Driving   2017-01-04"
      ]
     },
     "execution_count": 331,
     "metadata": {},
     "output_type": "execute_result"
    }
   ],
   "source": [
    "# Updated Apps\n",
    "updated_apps.head()"
   ]
  },
  {
   "cell_type": "code",
   "execution_count": 328,
   "metadata": {},
   "outputs": [
    {
     "data": {
      "text/html": [
       "<div>\n",
       "<style scoped>\n",
       "    .dataframe tbody tr th:only-of-type {\n",
       "        vertical-align: middle;\n",
       "    }\n",
       "\n",
       "    .dataframe tbody tr th {\n",
       "        vertical-align: top;\n",
       "    }\n",
       "\n",
       "    .dataframe thead th {\n",
       "        text-align: right;\n",
       "    }\n",
       "</style>\n",
       "<table border=\"1\" class=\"dataframe\">\n",
       "  <thead>\n",
       "    <tr style=\"text-align: right;\">\n",
       "      <th></th>\n",
       "      <th>App</th>\n",
       "      <th>Last Updated</th>\n",
       "    </tr>\n",
       "  </thead>\n",
       "  <tbody>\n",
       "    <tr>\n",
       "      <th>0</th>\n",
       "      <td>FML F*ck my life + widget</td>\n",
       "      <td>2010-05-21</td>\n",
       "    </tr>\n",
       "    <tr>\n",
       "      <th>1</th>\n",
       "      <td>CJ Poker Odds Calculator</td>\n",
       "      <td>2011-01-30</td>\n",
       "    </tr>\n",
       "    <tr>\n",
       "      <th>2</th>\n",
       "      <td>FD Shift Calendar Widget</td>\n",
       "      <td>2011-03-16</td>\n",
       "    </tr>\n",
       "    <tr>\n",
       "      <th>3</th>\n",
       "      <td>DEER HUNTER CHALLENGE</td>\n",
       "      <td>2011-04-11</td>\n",
       "    </tr>\n",
       "    <tr>\n",
       "      <th>4</th>\n",
       "      <td>Freecell CY</td>\n",
       "      <td>2011-04-16</td>\n",
       "    </tr>\n",
       "  </tbody>\n",
       "</table>\n",
       "</div>"
      ],
      "text/plain": [
       "                         App Last Updated\n",
       "0  FML F*ck my life + widget   2010-05-21\n",
       "1   CJ Poker Odds Calculator   2011-01-30\n",
       "2   FD Shift Calendar Widget   2011-03-16\n",
       "3      DEER HUNTER CHALLENGE   2011-04-11\n",
       "4                Freecell CY   2011-04-16"
      ]
     },
     "execution_count": 328,
     "metadata": {},
     "output_type": "execute_result"
    }
   ],
   "source": [
    "# Outdated Apps\n",
    "outdated_apps.head()"
   ]
  },
  {
   "cell_type": "code",
   "execution_count": 346,
   "metadata": {},
   "outputs": [
    {
     "name": "stdout",
     "output_type": "stream",
     "text": [
      "Outdated app:  FML F*ck my life + widget\n"
     ]
    }
   ],
   "source": [
    "print(\"Outdated app: \", outdated_apps.iloc[0]['App'])"
   ]
  },
  {
   "cell_type": "code",
   "execution_count": 347,
   "metadata": {},
   "outputs": [
    {
     "name": "stdout",
     "output_type": "stream",
     "text": [
      "Updated App:  Shoot Hunter-Gun Killer\n"
     ]
    }
   ],
   "source": [
    "print('Updated App: ',  updated_apps.iloc[-1]['App'])"
   ]
  },
  {
   "cell_type": "code",
   "execution_count": null,
   "metadata": {},
   "outputs": [],
   "source": []
  }
 ],
 "metadata": {
  "kernelspec": {
   "display_name": "Python 3",
   "language": "python",
   "name": "python3"
  },
  "language_info": {
   "codemirror_mode": {
    "name": "ipython",
    "version": 3
   },
   "file_extension": ".py",
   "mimetype": "text/x-python",
   "name": "python",
   "nbconvert_exporter": "python",
   "pygments_lexer": "ipython3",
   "version": "3.7.6"
  }
 },
 "nbformat": 4,
 "nbformat_minor": 4
}
